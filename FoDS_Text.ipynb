{
  "nbformat": 4,
  "nbformat_minor": 0,
  "metadata": {
    "colab": {
      "name": "FoDS_Text.ipynb",
      "provenance": []
    },
    "kernelspec": {
      "name": "python3",
      "display_name": "Python 3"
    },
    "language_info": {
      "name": "python"
    }
  },
  "cells": [
    {
      "cell_type": "code",
      "metadata": {
        "id": "xQGnIVrc1mmM"
      },
      "source": [
        "import numpy as np # linear algebra\n",
        "import pandas as pd # data processing, CSV file I/O (e.g. pd.read_csv)\n",
        "\n",
        "import os"
      ],
      "execution_count": null,
      "outputs": []
    },
    {
      "cell_type": "code",
      "metadata": {
        "id": "i5fw7JAh1vMd"
      },
      "source": [
        "import nltk"
      ],
      "execution_count": null,
      "outputs": []
    },
    {
      "cell_type": "code",
      "metadata": {
        "id": "wUMYl6dq1y2K"
      },
      "source": [
        "from nltk.corpus import product_reviews_1"
      ],
      "execution_count": null,
      "outputs": []
    },
    {
      "cell_type": "code",
      "metadata": {
        "colab": {
          "base_uri": "https://localhost:8080/"
        },
        "id": "DWVIfxfg12a8",
        "outputId": "99fc8f92-e10d-4a7a-90bd-071f6cde892f"
      },
      "source": [
        "nltk.download('product_reviews_1')"
      ],
      "execution_count": null,
      "outputs": [
        {
          "output_type": "stream",
          "name": "stdout",
          "text": [
            "[nltk_data] Downloading package product_reviews_1 to\n",
            "[nltk_data]     /root/nltk_data...\n",
            "[nltk_data]   Unzipping corpora/product_reviews_1.zip.\n"
          ]
        },
        {
          "output_type": "execute_result",
          "data": {
            "text/plain": [
              "True"
            ]
          },
          "metadata": {},
          "execution_count": 8
        }
      ]
    },
    {
      "cell_type": "code",
      "metadata": {
        "colab": {
          "base_uri": "https://localhost:8080/"
        },
        "id": "ydhGiIOM2CkH",
        "outputId": "0dc733cb-0517-483d-f173-b55953ce91f4"
      },
      "source": [
        "product_reviews_1.fileids()\n"
      ],
      "execution_count": null,
      "outputs": [
        {
          "output_type": "execute_result",
          "data": {
            "text/plain": [
              "['Apex_AD2600_Progressive_scan_DVD player.txt',\n",
              " 'Canon_G3.txt',\n",
              " 'Creative_Labs_Nomad_Jukebox_Zen_Xtra_40GB.txt',\n",
              " 'Nikon_coolpix_4300.txt',\n",
              " 'Nokia_6610.txt',\n",
              " 'README.txt']"
            ]
          },
          "metadata": {},
          "execution_count": 9
        }
      ]
    },
    {
      "cell_type": "code",
      "metadata": {
        "colab": {
          "base_uri": "https://localhost:8080/",
          "height": 205
        },
        "id": "OOoEcKMg2FVw",
        "outputId": "06f40dfc-7829-41b1-d740-05d82e698446"
      },
      "source": [
        "product_review_raw = product_reviews_1.raw('Apex_AD2600_Progressive_scan_DVD player.txt')\n",
        "product_review_raw[:750]"
      ],
      "execution_count": null,
      "outputs": [
        {
          "output_type": "execute_result",
          "data": {
            "application/vnd.google.colaboratory.intrinsic+json": {
              "type": "string"
            },
            "text/plain": [
              "'*****************************************************************************\\n* Annotated by: Minqing Hu and Bing Liu, 2004.\\n*\\t\\tDepartment of Computer Sicence\\n*               University of Illinois at Chicago              \\n*\\n* Product name: Apex AD2600 Progressive-scan DVD player\\n* Review Source: amazon.com\\n*\\n* See Readme.txt to find the meaning of each symbol. \\n*****************************************************************************\\n\\n[t] troubleshooting ad-2500 and ad-2600 no picture scrolling b/w . \\n##repost from january 13 , 2004 with a better fit title . \\n##does your apex dvd player only play dvd audio without video ? \\n##or does it play audio and video but scrolling in black and white ? \\n##before you try to return the player or was'"
            ]
          },
          "metadata": {},
          "execution_count": 10
        }
      ]
    },
    {
      "cell_type": "code",
      "metadata": {
        "colab": {
          "base_uri": "https://localhost:8080/"
        },
        "id": "zNsCIaBr2KDu",
        "outputId": "4f7a6e99-bde1-4cbb-e143-52794ce2acea"
      },
      "source": [
        "product_review_sents = product_reviews_1.sents('Apex_AD2600_Progressive_scan_DVD player.txt')\n",
        "product_review_sents"
      ],
      "execution_count": null,
      "outputs": [
        {
          "output_type": "execute_result",
          "data": {
            "text/plain": [
              "[['repost', 'from', 'january', '13', ',', '2004', 'with', 'a', 'better', 'fit', 'title', '.'], ['does', 'your', 'apex', 'dvd', 'player', 'only', 'play', 'dvd', 'audio', 'without', 'video', '?'], ...]"
            ]
          },
          "metadata": {},
          "execution_count": 11
        }
      ]
    },
    {
      "cell_type": "code",
      "metadata": {
        "colab": {
          "base_uri": "https://localhost:8080/"
        },
        "id": "FUrfVsfZ2NK1",
        "outputId": "3da249d4-c292-4ff6-a557-c585dd0917ca"
      },
      "source": [
        "product_review_words = product_reviews_1.words('Apex_AD2600_Progressive_scan_DVD player.txt')\n",
        "product_review_words"
      ],
      "execution_count": null,
      "outputs": [
        {
          "output_type": "execute_result",
          "data": {
            "text/plain": [
              "['repost', 'from', 'january', '13', ',', '2004', ...]"
            ]
          },
          "metadata": {},
          "execution_count": 12
        }
      ]
    },
    {
      "cell_type": "code",
      "metadata": {
        "colab": {
          "base_uri": "https://localhost:8080/"
        },
        "id": "Wu7t2ki72QPq",
        "outputId": "bb76b4c5-696c-4baa-95d5-b07363a5a010"
      },
      "source": [
        "product_review_words = product_reviews_1.words('Apex_AD2600_Progressive_scan_DVD player.txt')\n",
        "product_review_words"
      ],
      "execution_count": null,
      "outputs": [
        {
          "output_type": "execute_result",
          "data": {
            "text/plain": [
              "['repost', 'from', 'january', '13', ',', '2004', ...]"
            ]
          },
          "metadata": {},
          "execution_count": 13
        }
      ]
    },
    {
      "cell_type": "code",
      "metadata": {
        "colab": {
          "base_uri": "https://localhost:8080/"
        },
        "id": "Vtyg1nN62TFF",
        "outputId": "91592ff6-75d6-4933-9958-7ebe11ca5a77"
      },
      "source": [
        "nltk.download('stopwords')"
      ],
      "execution_count": null,
      "outputs": [
        {
          "output_type": "stream",
          "name": "stdout",
          "text": [
            "[nltk_data] Downloading package stopwords to /root/nltk_data...\n",
            "[nltk_data]   Unzipping corpora/stopwords.zip.\n"
          ]
        },
        {
          "output_type": "execute_result",
          "data": {
            "text/plain": [
              "True"
            ]
          },
          "metadata": {},
          "execution_count": 15
        }
      ]
    },
    {
      "cell_type": "code",
      "metadata": {
        "colab": {
          "base_uri": "https://localhost:8080/"
        },
        "id": "KQDR31Dp2a8R",
        "outputId": "47f47e03-f094-4569-b581-6b0bbd299530"
      },
      "source": [
        "from nltk.corpus import stopwords\n",
        "stoplist = stopwords.words('english')\n",
        "print(stoplist)"
      ],
      "execution_count": null,
      "outputs": [
        {
          "output_type": "stream",
          "name": "stdout",
          "text": [
            "['i', 'me', 'my', 'myself', 'we', 'our', 'ours', 'ourselves', 'you', \"you're\", \"you've\", \"you'll\", \"you'd\", 'your', 'yours', 'yourself', 'yourselves', 'he', 'him', 'his', 'himself', 'she', \"she's\", 'her', 'hers', 'herself', 'it', \"it's\", 'its', 'itself', 'they', 'them', 'their', 'theirs', 'themselves', 'what', 'which', 'who', 'whom', 'this', 'that', \"that'll\", 'these', 'those', 'am', 'is', 'are', 'was', 'were', 'be', 'been', 'being', 'have', 'has', 'had', 'having', 'do', 'does', 'did', 'doing', 'a', 'an', 'the', 'and', 'but', 'if', 'or', 'because', 'as', 'until', 'while', 'of', 'at', 'by', 'for', 'with', 'about', 'against', 'between', 'into', 'through', 'during', 'before', 'after', 'above', 'below', 'to', 'from', 'up', 'down', 'in', 'out', 'on', 'off', 'over', 'under', 'again', 'further', 'then', 'once', 'here', 'there', 'when', 'where', 'why', 'how', 'all', 'any', 'both', 'each', 'few', 'more', 'most', 'other', 'some', 'such', 'no', 'nor', 'not', 'only', 'own', 'same', 'so', 'than', 'too', 'very', 's', 't', 'can', 'will', 'just', 'don', \"don't\", 'should', \"should've\", 'now', 'd', 'll', 'm', 'o', 're', 've', 'y', 'ain', 'aren', \"aren't\", 'couldn', \"couldn't\", 'didn', \"didn't\", 'doesn', \"doesn't\", 'hadn', \"hadn't\", 'hasn', \"hasn't\", 'haven', \"haven't\", 'isn', \"isn't\", 'ma', 'mightn', \"mightn't\", 'mustn', \"mustn't\", 'needn', \"needn't\", 'shan', \"shan't\", 'shouldn', \"shouldn't\", 'wasn', \"wasn't\", 'weren', \"weren't\", 'won', \"won't\", 'wouldn', \"wouldn't\"]\n"
          ]
        }
      ]
    },
    {
      "cell_type": "code",
      "metadata": {
        "colab": {
          "base_uri": "https://localhost:8080/"
        },
        "id": "IkIVY06y2dyA",
        "outputId": "7127341f-8f6e-4b56-bf09-b600b69fbf62"
      },
      "source": [
        "print(f'word length with stopwords {len(product_review_words)}')\n",
        "product_review_wo_stopwords = [word for word in product_review_words if not word in stoplist]\n",
        "print(f'word length without stopwords {len(product_review_wo_stopwords)}')"
      ],
      "execution_count": null,
      "outputs": [
        {
          "output_type": "stream",
          "name": "stdout",
          "text": [
            "word length with stopwords 12593\n",
            "word length without stopwords 7190\n"
          ]
        }
      ]
    },
    {
      "cell_type": "code",
      "metadata": {
        "colab": {
          "base_uri": "https://localhost:8080/"
        },
        "id": "icMiy3PZ2gwL",
        "outputId": "a6130bf4-7a97-461a-d5d4-811fda0b2f62"
      },
      "source": [
        "nltk.download('punkt')"
      ],
      "execution_count": null,
      "outputs": [
        {
          "output_type": "stream",
          "name": "stdout",
          "text": [
            "[nltk_data] Downloading package punkt to /root/nltk_data...\n",
            "[nltk_data]   Unzipping tokenizers/punkt.zip.\n"
          ]
        },
        {
          "output_type": "execute_result",
          "data": {
            "text/plain": [
              "True"
            ]
          },
          "metadata": {},
          "execution_count": 19
        }
      ]
    },
    {
      "cell_type": "code",
      "metadata": {
        "colab": {
          "base_uri": "https://localhost:8080/"
        },
        "id": "7Ivo-6DY2qnB",
        "outputId": "a0b86c96-971b-4b66-c97c-55ca81a64320"
      },
      "source": [
        "from nltk.tokenize import sent_tokenize, word_tokenize\n",
        "\n",
        "print(f'Word Tokens - \\n{sent_tokenize(product_review_raw[750:1250])}\\n\\n\\n')\n",
        "print(f'Sentence Tokens - \\n{word_tokenize(product_review_raw[750:1250])}')"
      ],
      "execution_count": null,
      "outputs": [
        {
          "output_type": "stream",
          "name": "stdout",
          "text": [
            "Word Tokens - \n",
            "['te hours calling apex tech support , or run the player over with your car , try these simple troubleshooting ideas first .', '##no picture : \\n##hopefully you still have the remote control .', '##if you tossed it out the window , you need to fetch it .', '##using the remote control , press the i/p button located on the bottom right corner of the remote .', '##the i/p button switches the tv display between interlace and progressive .', '##if this doesnt bring back the picture , try pressing this button with']\n",
            "\n",
            "\n",
            "\n",
            "Sentence Tokens - \n",
            "['te', 'hours', 'calling', 'apex', 'tech', 'support', ',', 'or', 'run', 'the', 'player', 'over', 'with', 'your', 'car', ',', 'try', 'these', 'simple', 'troubleshooting', 'ideas', 'first', '.', '#', '#', 'no', 'picture', ':', '#', '#', 'hopefully', 'you', 'still', 'have', 'the', 'remote', 'control', '.', '#', '#', 'if', 'you', 'tossed', 'it', 'out', 'the', 'window', ',', 'you', 'need', 'to', 'fetch', 'it', '.', '#', '#', 'using', 'the', 'remote', 'control', ',', 'press', 'the', 'i/p', 'button', 'located', 'on', 'the', 'bottom', 'right', 'corner', 'of', 'the', 'remote', '.', '#', '#', 'the', 'i/p', 'button', 'switches', 'the', 'tv', 'display', 'between', 'interlace', 'and', 'progressive', '.', '#', '#', 'if', 'this', 'doesnt', 'bring', 'back', 'the', 'picture', ',', 'try', 'pressing', 'this', 'button', 'with']\n"
          ]
        }
      ]
    },
    {
      "cell_type": "code",
      "metadata": {
        "colab": {
          "base_uri": "https://localhost:8080/"
        },
        "id": "jO3uYMl52tGf",
        "outputId": "a39cdfe5-b1ab-4c72-9298-ab22aff0e753"
      },
      "source": [
        "nltk.download('wordnet')"
      ],
      "execution_count": null,
      "outputs": [
        {
          "output_type": "stream",
          "name": "stdout",
          "text": [
            "[nltk_data] Downloading package wordnet to /root/nltk_data...\n",
            "[nltk_data]   Unzipping corpora/wordnet.zip.\n"
          ]
        },
        {
          "output_type": "execute_result",
          "data": {
            "text/plain": [
              "True"
            ]
          },
          "metadata": {},
          "execution_count": 22
        }
      ]
    },
    {
      "cell_type": "code",
      "metadata": {
        "colab": {
          "base_uri": "https://localhost:8080/"
        },
        "id": "SAGi2zcG22fx",
        "outputId": "eba3cf32-3997-4e6a-998f-a40492ea5aca"
      },
      "source": [
        "from nltk.stem import WordNetLemmatizer\n",
        "from nltk.stem.porter import PorterStemmer\n",
        "sample_sentence = 'A middle-aged woman entered the room, her hands full of hamburger meat as she formed a patty'\n",
        "porter_stemmer = PorterStemmer()\n",
        "word_lemmatizer = WordNetLemmatizer()\n",
        "\n",
        "for w in word_tokenize(sample_sentence):\n",
        "    print(f'Actual Word - {w}')\n",
        "    print(f'Stem - {porter_stemmer.stem(w)}')\n",
        "    print(f'Lemma - {word_lemmatizer.lemmatize(w)}\\n')"
      ],
      "execution_count": null,
      "outputs": [
        {
          "output_type": "stream",
          "name": "stdout",
          "text": [
            "Actual Word - A\n",
            "Stem - A\n",
            "Lemma - A\n",
            "\n",
            "Actual Word - middle-aged\n",
            "Stem - middle-ag\n",
            "Lemma - middle-aged\n",
            "\n",
            "Actual Word - woman\n",
            "Stem - woman\n",
            "Lemma - woman\n",
            "\n",
            "Actual Word - entered\n",
            "Stem - enter\n",
            "Lemma - entered\n",
            "\n",
            "Actual Word - the\n",
            "Stem - the\n",
            "Lemma - the\n",
            "\n",
            "Actual Word - room\n",
            "Stem - room\n",
            "Lemma - room\n",
            "\n",
            "Actual Word - ,\n",
            "Stem - ,\n",
            "Lemma - ,\n",
            "\n",
            "Actual Word - her\n",
            "Stem - her\n",
            "Lemma - her\n",
            "\n",
            "Actual Word - hands\n",
            "Stem - hand\n",
            "Lemma - hand\n",
            "\n",
            "Actual Word - full\n",
            "Stem - full\n",
            "Lemma - full\n",
            "\n",
            "Actual Word - of\n",
            "Stem - of\n",
            "Lemma - of\n",
            "\n",
            "Actual Word - hamburger\n",
            "Stem - hamburg\n",
            "Lemma - hamburger\n",
            "\n",
            "Actual Word - meat\n",
            "Stem - meat\n",
            "Lemma - meat\n",
            "\n",
            "Actual Word - as\n",
            "Stem - as\n",
            "Lemma - a\n",
            "\n",
            "Actual Word - she\n",
            "Stem - she\n",
            "Lemma - she\n",
            "\n",
            "Actual Word - formed\n",
            "Stem - form\n",
            "Lemma - formed\n",
            "\n",
            "Actual Word - a\n",
            "Stem - a\n",
            "Lemma - a\n",
            "\n",
            "Actual Word - patty\n",
            "Stem - patti\n",
            "Lemma - patty\n",
            "\n"
          ]
        }
      ]
    },
    {
      "cell_type": "code",
      "metadata": {
        "colab": {
          "base_uri": "https://localhost:8080/"
        },
        "id": "iroQ8th525se",
        "outputId": "e9da3d1f-1374-4251-b660-671573c5dfe5"
      },
      "source": [
        "from sklearn.feature_extraction.text import CountVectorizer\n",
        "# initialize sample document\n",
        "sample_documents = ['Must have a subject and a verb','Must express a complete thought','Must only have one clause']\n",
        "# instantiate\n",
        "vectorizer = CountVectorizer()\n",
        "vectorizer.fit(sample_documents)\n",
        "# summarize\n",
        "print(f':: vector vocabulary - {vectorizer.vocabulary_}\\n')\n",
        "# encode document\n",
        "vector = vectorizer.transform(sample_documents)\n",
        "# summarize encoded vector\n",
        "print(f':: vector shape - {vector.shape}\\n')\n",
        "print(f':: vector list - {vector.toarray()}')"
      ],
      "execution_count": null,
      "outputs": [
        {
          "output_type": "stream",
          "name": "stdout",
          "text": [
            ":: vector vocabulary - {'must': 5, 'have': 4, 'subject': 8, 'and': 0, 'verb': 10, 'express': 3, 'complete': 2, 'thought': 9, 'only': 7, 'one': 6, 'clause': 1}\n",
            "\n",
            ":: vector shape - (3, 11)\n",
            "\n",
            ":: vector list - [[1 0 0 0 1 1 0 0 1 0 1]\n",
            " [0 0 1 1 0 1 0 0 0 1 0]\n",
            " [0 1 0 0 1 1 1 1 0 0 0]]\n"
          ]
        }
      ]
    },
    {
      "cell_type": "code",
      "metadata": {
        "colab": {
          "base_uri": "https://localhost:8080/"
        },
        "id": "fesk4rd33D7_",
        "outputId": "3d28bec1-8cd9-4e70-dff5-db020d3777fd"
      },
      "source": [
        "from sklearn.feature_extraction.text import TfidfVectorizer\n",
        "# initialize sample document\n",
        "sample_documents = ['Must have a subject and a verb','Must express a complete thought','Must only have one clause']\n",
        "# instantiate\n",
        "vectorizer = TfidfVectorizer()\n",
        "vectorizer.fit(sample_documents)\n",
        "# summarize\n",
        "print(f':: vector vocabulary - {vectorizer.vocabulary_}\\n')\n",
        "# encode document\n",
        "vector = vectorizer.transform(sample_documents)\n",
        "# summarize encoded vector\n",
        "print(f':: vector shape - {vector.shape}\\n')\n",
        "print(f':: vector list - {vector.toarray()}')"
      ],
      "execution_count": null,
      "outputs": [
        {
          "output_type": "stream",
          "name": "stdout",
          "text": [
            ":: vector vocabulary - {'must': 5, 'have': 4, 'subject': 8, 'and': 0, 'verb': 10, 'express': 3, 'complete': 2, 'thought': 9, 'only': 7, 'one': 6, 'clause': 1}\n",
            "\n",
            ":: vector shape - (3, 11)\n",
            "\n",
            ":: vector list - [[0.50461134 0.         0.         0.         0.38376993 0.29803159\n",
            "  0.         0.         0.50461134 0.         0.50461134]\n",
            " [0.         0.         0.54645401 0.54645401 0.         0.32274454\n",
            "  0.         0.         0.         0.54645401 0.        ]\n",
            " [0.         0.50461134 0.         0.         0.38376993 0.29803159\n",
            "  0.50461134 0.50461134 0.         0.         0.        ]]\n"
          ]
        }
      ]
    },
    {
      "cell_type": "code",
      "metadata": {
        "id": "-mmceDGz1nd0"
      },
      "source": [
        ""
      ],
      "execution_count": null,
      "outputs": []
    }
  ]
}