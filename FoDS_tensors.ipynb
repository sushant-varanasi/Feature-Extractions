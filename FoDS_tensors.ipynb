{
  "nbformat": 4,
  "nbformat_minor": 0,
  "metadata": {
    "colab": {
      "name": "FoDS_tensors.ipynb",
      "provenance": []
    },
    "kernelspec": {
      "name": "python3",
      "display_name": "Python 3"
    },
    "language_info": {
      "name": "python"
    }
  },
  "cells": [
    {
      "cell_type": "markdown",
      "metadata": {
        "id": "sxY70sb50E9A"
      },
      "source": [
        "## Scalars (0D tensors)"
      ]
    },
    {
      "cell_type": "code",
      "metadata": {
        "colab": {
          "base_uri": "https://localhost:8080/",
          "height": 0
        },
        "id": "DSnK3WvQy5A1",
        "outputId": "f81ca3d0-6ebc-4279-fca2-187a177f52bb"
      },
      "source": [
        "import numpy as np\n",
        "import matplotlib.pyplot as plt\n",
        "x = np.array(7)\n",
        "x"
      ],
      "execution_count": 23,
      "outputs": [
        {
          "output_type": "execute_result",
          "data": {
            "text/plain": [
              "array(7)"
            ]
          },
          "metadata": {},
          "execution_count": 23
        }
      ]
    },
    {
      "cell_type": "code",
      "metadata": {
        "colab": {
          "base_uri": "https://localhost:8080/",
          "height": 0
        },
        "id": "-ghTkrcl0jCP",
        "outputId": "ac4eff85-ce49-4e7d-c935-ece33803f3ca"
      },
      "source": [
        "print(\"Dimension of 0D Tensor x is: \", x.ndim)"
      ],
      "execution_count": 24,
      "outputs": [
        {
          "output_type": "stream",
          "name": "stdout",
          "text": [
            "Dimension of 0D Tensor x is:  0\n"
          ]
        }
      ]
    },
    {
      "cell_type": "markdown",
      "metadata": {
        "id": "cuasa2z10EiZ"
      },
      "source": [
        "## Vectors (1D tensors)"
      ]
    },
    {
      "cell_type": "code",
      "metadata": {
        "colab": {
          "base_uri": "https://localhost:8080/",
          "height": 0
        },
        "id": "oCxB34RQ0R0S",
        "outputId": "d0f0706c-dc2b-49ac-8c12-c6bb12115e28"
      },
      "source": [
        "x = np.array([7, 4, 16, 28, 14])\n",
        "x"
      ],
      "execution_count": 25,
      "outputs": [
        {
          "output_type": "execute_result",
          "data": {
            "text/plain": [
              "array([ 7,  4, 16, 28, 14])"
            ]
          },
          "metadata": {},
          "execution_count": 25
        }
      ]
    },
    {
      "cell_type": "code",
      "metadata": {
        "colab": {
          "base_uri": "https://localhost:8080/",
          "height": 0
        },
        "id": "ZjYlf8Ms0YC0",
        "outputId": "52b321f0-e34d-4b44-dc28-32668b677d2c"
      },
      "source": [
        "print(\"Dimension of 1D Tensor x is: \", x.ndim)"
      ],
      "execution_count": 26,
      "outputs": [
        {
          "output_type": "stream",
          "name": "stdout",
          "text": [
            "Dimension of 1D Tensor x is:  1\n"
          ]
        }
      ]
    },
    {
      "cell_type": "markdown",
      "metadata": {
        "id": "VI6UleLI0m68"
      },
      "source": [
        "## Matrices (2D tensors)"
      ]
    },
    {
      "cell_type": "code",
      "metadata": {
        "colab": {
          "base_uri": "https://localhost:8080/",
          "height": 0
        },
        "id": "bhPqLrfn0dRu",
        "outputId": "fbcc2864-3e7e-4827-a375-20ab4cfeff42"
      },
      "source": [
        "x = np.array([[5, 8, 24, 34, 50],\n",
        "[6, 7, 13, 35, 1],\n",
        "[17, 80, 44, 6, 21]])\n",
        "x"
      ],
      "execution_count": 27,
      "outputs": [
        {
          "output_type": "execute_result",
          "data": {
            "text/plain": [
              "array([[ 5,  8, 24, 34, 50],\n",
              "       [ 6,  7, 13, 35,  1],\n",
              "       [17, 80, 44,  6, 21]])"
            ]
          },
          "metadata": {},
          "execution_count": 27
        }
      ]
    },
    {
      "cell_type": "code",
      "metadata": {
        "colab": {
          "base_uri": "https://localhost:8080/",
          "height": 0
        },
        "id": "DBZXUI1m0v2L",
        "outputId": "42cf3963-3e60-4707-8ec6-75401b758eaa"
      },
      "source": [
        "print(\"Dimension of 2D Tensor x is: \", x.ndim)"
      ],
      "execution_count": 28,
      "outputs": [
        {
          "output_type": "stream",
          "name": "stdout",
          "text": [
            "Dimension of 2D Tensor x is:  2\n"
          ]
        }
      ]
    },
    {
      "cell_type": "markdown",
      "metadata": {
        "id": "1EWihdMN1KgH"
      },
      "source": [
        "## 3D tensors and higher-dimensional tensors"
      ]
    },
    {
      "cell_type": "code",
      "metadata": {
        "colab": {
          "base_uri": "https://localhost:8080/",
          "height": 0
        },
        "id": "dBnypHzc0wU4",
        "outputId": "5a1a86d5-c531-4f03-8f58-08022df9a8d2"
      },
      "source": [
        "from numpy import array\n",
        "\n",
        "T = array([\n",
        "  [\n",
        "  [1,2,3],    [4,5,6],    [7,8,9]],\n",
        "  [[11,12,13], [14,15,16], [17,18,19]],\n",
        "  [[21,22,23], [24,25,26], [27,28,29]\n",
        "  ],\n",
        "  ])\n",
        "print(T.shape)\n",
        "print(\"3D Tensor T is: \", T)\n"
      ],
      "execution_count": 29,
      "outputs": [
        {
          "output_type": "stream",
          "name": "stdout",
          "text": [
            "(3, 3, 3)\n",
            "3D Tensor T is:  [[[ 1  2  3]\n",
            "  [ 4  5  6]\n",
            "  [ 7  8  9]]\n",
            "\n",
            " [[11 12 13]\n",
            "  [14 15 16]\n",
            "  [17 18 19]]\n",
            "\n",
            " [[21 22 23]\n",
            "  [24 25 26]\n",
            "  [27 28 29]]]\n"
          ]
        }
      ]
    },
    {
      "cell_type": "code",
      "metadata": {
        "colab": {
          "base_uri": "https://localhost:8080/",
          "height": 0
        },
        "id": "hhkec0K61SD9",
        "outputId": "f558b425-d221-455f-e18e-e2eeab0737b1"
      },
      "source": [
        "print(\"Dimension of 3D Tensor T is: \", T.ndim)"
      ],
      "execution_count": 30,
      "outputs": [
        {
          "output_type": "stream",
          "name": "stdout",
          "text": [
            "Dimension of 3D Tensor T is:  3\n"
          ]
        }
      ]
    },
    {
      "cell_type": "code",
      "metadata": {
        "id": "pfWf1uoS1jnH"
      },
      "source": [
        ""
      ],
      "execution_count": null,
      "outputs": []
    }
  ]
}